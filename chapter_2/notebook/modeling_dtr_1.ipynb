{
 "cells": [
  {
   "cell_type": "code",
   "execution_count": 18,
   "metadata": {
    "_cell_guid": "79c7e3d0-c299-4dcb-8224-4455121ee9b0",
    "_uuid": "d629ff2d2480ee46fbb7e2d37f6b5fab8052498a"
   },
   "outputs": [],
   "source": [
    "#ライブラリの読み込み\n",
    "import sys\n",
    "import os\n",
    "import numpy as np\n",
    "import pandas as pd\n",
    "import matplotlib.pyplot as plt\n",
    "%matplotlib inline\n",
    "from sklearn.tree import DecisionTreeClassifier\n",
    "from sklearn.model_selection import cross_val_score\n",
    "from subprocess import call\n",
    "from sklearn.metrics import accuracy_score\n",
    "from sklearn import preprocessing"
   ]
  },
  {
   "cell_type": "code",
   "execution_count": 19,
   "metadata": {},
   "outputs": [],
   "source": [
    "plt.style.use('ggplot')\n",
    "plt.rcParams['font.size'] = 18\n",
    "plt.rcParams['figure.figsize'] = (15,10)"
   ]
  },
  {
   "cell_type": "code",
   "execution_count": 20,
   "metadata": {
    "_uuid": "849c671afcb3d24d6cac56c9cca8830a14e3cd1e"
   },
   "outputs": [],
   "source": [
    "#データ（CSVファイル）の読み込み\n",
    "train = pd.read_table(\"./input/train.tsv\", low_memory=False)\n",
    "test = pd.read_table(\"./input/test.tsv\", low_memory=False)"
   ]
  },
  {
   "cell_type": "code",
   "execution_count": 21,
   "metadata": {},
   "outputs": [
    {
     "data": {
      "text/html": [
       "<div>\n",
       "<style scoped>\n",
       "    .dataframe tbody tr th:only-of-type {\n",
       "        vertical-align: middle;\n",
       "    }\n",
       "\n",
       "    .dataframe tbody tr th {\n",
       "        vertical-align: top;\n",
       "    }\n",
       "\n",
       "    .dataframe thead th {\n",
       "        text-align: right;\n",
       "    }\n",
       "</style>\n",
       "<table border=\"1\" class=\"dataframe\">\n",
       "  <thead>\n",
       "    <tr style=\"text-align: right;\">\n",
       "      <th></th>\n",
       "      <th>id</th>\n",
       "      <th>age</th>\n",
       "      <th>workclass</th>\n",
       "      <th>fnlwgt</th>\n",
       "      <th>education</th>\n",
       "      <th>education-num</th>\n",
       "      <th>marital-status</th>\n",
       "      <th>occupation</th>\n",
       "      <th>relationship</th>\n",
       "      <th>race</th>\n",
       "      <th>sex</th>\n",
       "      <th>capital-gain</th>\n",
       "      <th>capital-loss</th>\n",
       "      <th>hours-per-week</th>\n",
       "      <th>native-country</th>\n",
       "      <th>Y</th>\n",
       "    </tr>\n",
       "  </thead>\n",
       "  <tbody>\n",
       "    <tr>\n",
       "      <th>0</th>\n",
       "      <td>5</td>\n",
       "      <td>90</td>\n",
       "      <td>Private</td>\n",
       "      <td>313986</td>\n",
       "      <td>11th</td>\n",
       "      <td>7</td>\n",
       "      <td>Never-married</td>\n",
       "      <td>Handlers-cleaners</td>\n",
       "      <td>Own-child</td>\n",
       "      <td>White</td>\n",
       "      <td>Male</td>\n",
       "      <td>0</td>\n",
       "      <td>0</td>\n",
       "      <td>40</td>\n",
       "      <td>United-States</td>\n",
       "      <td>&lt;=50K</td>\n",
       "    </tr>\n",
       "    <tr>\n",
       "      <th>1</th>\n",
       "      <td>10</td>\n",
       "      <td>46</td>\n",
       "      <td>Private</td>\n",
       "      <td>74895</td>\n",
       "      <td>Assoc-acdm</td>\n",
       "      <td>12</td>\n",
       "      <td>Married-civ-spouse</td>\n",
       "      <td>Craft-repair</td>\n",
       "      <td>Husband</td>\n",
       "      <td>White</td>\n",
       "      <td>Male</td>\n",
       "      <td>0</td>\n",
       "      <td>1485</td>\n",
       "      <td>55</td>\n",
       "      <td>United-States</td>\n",
       "      <td>&lt;=50K</td>\n",
       "    </tr>\n",
       "    <tr>\n",
       "      <th>2</th>\n",
       "      <td>11</td>\n",
       "      <td>37</td>\n",
       "      <td>Private</td>\n",
       "      <td>67433</td>\n",
       "      <td>HS-grad</td>\n",
       "      <td>9</td>\n",
       "      <td>Married-civ-spouse</td>\n",
       "      <td>Adm-clerical</td>\n",
       "      <td>Wife</td>\n",
       "      <td>White</td>\n",
       "      <td>Female</td>\n",
       "      <td>0</td>\n",
       "      <td>0</td>\n",
       "      <td>40</td>\n",
       "      <td>United-States</td>\n",
       "      <td>&gt;50K</td>\n",
       "    </tr>\n",
       "    <tr>\n",
       "      <th>3</th>\n",
       "      <td>13</td>\n",
       "      <td>45</td>\n",
       "      <td>Local-gov</td>\n",
       "      <td>144940</td>\n",
       "      <td>Masters</td>\n",
       "      <td>14</td>\n",
       "      <td>Divorced</td>\n",
       "      <td>Prof-specialty</td>\n",
       "      <td>Unmarried</td>\n",
       "      <td>Black</td>\n",
       "      <td>Female</td>\n",
       "      <td>0</td>\n",
       "      <td>0</td>\n",
       "      <td>40</td>\n",
       "      <td>United-States</td>\n",
       "      <td>&lt;=50K</td>\n",
       "    </tr>\n",
       "    <tr>\n",
       "      <th>4</th>\n",
       "      <td>14</td>\n",
       "      <td>40</td>\n",
       "      <td>Private</td>\n",
       "      <td>272960</td>\n",
       "      <td>Assoc-acdm</td>\n",
       "      <td>12</td>\n",
       "      <td>Married-civ-spouse</td>\n",
       "      <td>Tech-support</td>\n",
       "      <td>Husband</td>\n",
       "      <td>White</td>\n",
       "      <td>Male</td>\n",
       "      <td>0</td>\n",
       "      <td>0</td>\n",
       "      <td>42</td>\n",
       "      <td>United-States</td>\n",
       "      <td>&gt;50K</td>\n",
       "    </tr>\n",
       "    <tr>\n",
       "      <th>...</th>\n",
       "      <td>...</td>\n",
       "      <td>...</td>\n",
       "      <td>...</td>\n",
       "      <td>...</td>\n",
       "      <td>...</td>\n",
       "      <td>...</td>\n",
       "      <td>...</td>\n",
       "      <td>...</td>\n",
       "      <td>...</td>\n",
       "      <td>...</td>\n",
       "      <td>...</td>\n",
       "      <td>...</td>\n",
       "      <td>...</td>\n",
       "      <td>...</td>\n",
       "      <td>...</td>\n",
       "      <td>...</td>\n",
       "    </tr>\n",
       "    <tr>\n",
       "      <th>16275</th>\n",
       "      <td>32552</td>\n",
       "      <td>42</td>\n",
       "      <td>Private</td>\n",
       "      <td>83411</td>\n",
       "      <td>Some-college</td>\n",
       "      <td>10</td>\n",
       "      <td>Divorced</td>\n",
       "      <td>Exec-managerial</td>\n",
       "      <td>Not-in-family</td>\n",
       "      <td>White</td>\n",
       "      <td>Male</td>\n",
       "      <td>0</td>\n",
       "      <td>1408</td>\n",
       "      <td>40</td>\n",
       "      <td>United-States</td>\n",
       "      <td>&lt;=50K</td>\n",
       "    </tr>\n",
       "    <tr>\n",
       "      <th>16276</th>\n",
       "      <td>32553</td>\n",
       "      <td>59</td>\n",
       "      <td>Self-emp-not-inc</td>\n",
       "      <td>223131</td>\n",
       "      <td>HS-grad</td>\n",
       "      <td>9</td>\n",
       "      <td>Divorced</td>\n",
       "      <td>Exec-managerial</td>\n",
       "      <td>Not-in-family</td>\n",
       "      <td>White</td>\n",
       "      <td>Male</td>\n",
       "      <td>0</td>\n",
       "      <td>0</td>\n",
       "      <td>60</td>\n",
       "      <td>United-States</td>\n",
       "      <td>&lt;=50K</td>\n",
       "    </tr>\n",
       "    <tr>\n",
       "      <th>16277</th>\n",
       "      <td>32554</td>\n",
       "      <td>42</td>\n",
       "      <td>Private</td>\n",
       "      <td>142424</td>\n",
       "      <td>Assoc-voc</td>\n",
       "      <td>11</td>\n",
       "      <td>Never-married</td>\n",
       "      <td>Adm-clerical</td>\n",
       "      <td>Not-in-family</td>\n",
       "      <td>White</td>\n",
       "      <td>Female</td>\n",
       "      <td>0</td>\n",
       "      <td>0</td>\n",
       "      <td>40</td>\n",
       "      <td>United-States</td>\n",
       "      <td>&lt;=50K</td>\n",
       "    </tr>\n",
       "    <tr>\n",
       "      <th>16278</th>\n",
       "      <td>32555</td>\n",
       "      <td>19</td>\n",
       "      <td>?</td>\n",
       "      <td>119234</td>\n",
       "      <td>Some-college</td>\n",
       "      <td>10</td>\n",
       "      <td>Never-married</td>\n",
       "      <td>?</td>\n",
       "      <td>Other-relative</td>\n",
       "      <td>White</td>\n",
       "      <td>Female</td>\n",
       "      <td>0</td>\n",
       "      <td>0</td>\n",
       "      <td>15</td>\n",
       "      <td>United-States</td>\n",
       "      <td>&lt;=50K</td>\n",
       "    </tr>\n",
       "    <tr>\n",
       "      <th>16279</th>\n",
       "      <td>32557</td>\n",
       "      <td>28</td>\n",
       "      <td>?</td>\n",
       "      <td>303674</td>\n",
       "      <td>HS-grad</td>\n",
       "      <td>9</td>\n",
       "      <td>Married-civ-spouse</td>\n",
       "      <td>?</td>\n",
       "      <td>Wife</td>\n",
       "      <td>White</td>\n",
       "      <td>Female</td>\n",
       "      <td>3103</td>\n",
       "      <td>0</td>\n",
       "      <td>20</td>\n",
       "      <td>United-States</td>\n",
       "      <td>&lt;=50K</td>\n",
       "    </tr>\n",
       "  </tbody>\n",
       "</table>\n",
       "<p>16280 rows × 16 columns</p>\n",
       "</div>"
      ],
      "text/plain": [
       "          id  age         workclass  fnlwgt     education  education-num  \\\n",
       "0          5   90           Private  313986          11th              7   \n",
       "1         10   46           Private   74895    Assoc-acdm             12   \n",
       "2         11   37           Private   67433       HS-grad              9   \n",
       "3         13   45         Local-gov  144940       Masters             14   \n",
       "4         14   40           Private  272960    Assoc-acdm             12   \n",
       "...      ...  ...               ...     ...           ...            ...   \n",
       "16275  32552   42           Private   83411  Some-college             10   \n",
       "16276  32553   59  Self-emp-not-inc  223131       HS-grad              9   \n",
       "16277  32554   42           Private  142424     Assoc-voc             11   \n",
       "16278  32555   19                 ?  119234  Some-college             10   \n",
       "16279  32557   28                 ?  303674       HS-grad              9   \n",
       "\n",
       "           marital-status         occupation    relationship   race     sex  \\\n",
       "0           Never-married  Handlers-cleaners       Own-child  White    Male   \n",
       "1      Married-civ-spouse       Craft-repair         Husband  White    Male   \n",
       "2      Married-civ-spouse       Adm-clerical            Wife  White  Female   \n",
       "3                Divorced     Prof-specialty       Unmarried  Black  Female   \n",
       "4      Married-civ-spouse       Tech-support         Husband  White    Male   \n",
       "...                   ...                ...             ...    ...     ...   \n",
       "16275            Divorced    Exec-managerial   Not-in-family  White    Male   \n",
       "16276            Divorced    Exec-managerial   Not-in-family  White    Male   \n",
       "16277       Never-married       Adm-clerical   Not-in-family  White  Female   \n",
       "16278       Never-married                  ?  Other-relative  White  Female   \n",
       "16279  Married-civ-spouse                  ?            Wife  White  Female   \n",
       "\n",
       "       capital-gain  capital-loss  hours-per-week native-country      Y  \n",
       "0                 0             0              40  United-States  <=50K  \n",
       "1                 0          1485              55  United-States  <=50K  \n",
       "2                 0             0              40  United-States   >50K  \n",
       "3                 0             0              40  United-States  <=50K  \n",
       "4                 0             0              42  United-States   >50K  \n",
       "...             ...           ...             ...            ...    ...  \n",
       "16275             0          1408              40  United-States  <=50K  \n",
       "16276             0             0              60  United-States  <=50K  \n",
       "16277             0             0              40  United-States  <=50K  \n",
       "16278             0             0              15  United-States  <=50K  \n",
       "16279          3103             0              20  United-States  <=50K  \n",
       "\n",
       "[16280 rows x 16 columns]"
      ]
     },
     "execution_count": 21,
     "metadata": {},
     "output_type": "execute_result"
    }
   ],
   "source": [
    "train"
   ]
  },
  {
   "cell_type": "code",
   "execution_count": 22,
   "metadata": {
    "_uuid": "a9ba29fb6bd4232be8bb1f695b3155f2159626d5"
   },
   "outputs": [],
   "source": [
    "#データの前処理\n",
    "X_train = train.drop([\"Y\"], axis=1)\n",
    "y_train = train[\"Y\"].values\n",
    "X_test = test\n",
    "X_traintest = pd.concat([X_train, X_test], axis=0)"
   ]
  },
  {
   "cell_type": "code",
   "execution_count": 23,
   "metadata": {},
   "outputs": [],
   "source": [
    "#決定木に学習させる特徴量を設定、今回は教育を受けた年数、キャピタルロスと年齢のみ\n",
    "X_traintest = X_traintest[['education-num', 'capital-loss', 'age']]"
   ]
  },
  {
   "cell_type": "code",
   "execution_count": 24,
   "metadata": {
    "_uuid": "3caa49a2071c2b35d0cede79a7a6e4dd5898a7c8",
    "scrolled": true
   },
   "outputs": [],
   "source": [
    "X_train = X_traintest.iloc[:train.shape[0], :]\n",
    "X_test = X_traintest.iloc[train.shape[0]:, :]"
   ]
  },
  {
   "cell_type": "code",
   "execution_count": 30,
   "metadata": {},
   "outputs": [],
   "source": [
    "#決定木のパラメータを設定\n",
    "#最大深さを２に設定\n",
    "params = {\n",
    "    'criterion': 'gini', \n",
    "    'max_features': 'auto',\n",
    "    'max_depth': 2, \n",
    "    'max_leaf_nodes': None,\n",
    "    'random_state': 0,\n",
    "}"
   ]
  },
  {
   "cell_type": "code",
   "execution_count": 26,
   "metadata": {
    "scrolled": true
   },
   "outputs": [
    {
     "data": {
      "text/plain": [
       "DecisionTreeClassifier(class_weight=None, criterion='gini', max_depth=2,\n",
       "                       max_features='auto', max_leaf_nodes=None,\n",
       "                       min_impurity_decrease=0.0, min_impurity_split=None,\n",
       "                       min_samples_leaf=1, min_samples_split=2,\n",
       "                       min_weight_fraction_leaf=0.0, presort=False,\n",
       "                       random_state=0, splitter='best')"
      ]
     },
     "execution_count": 26,
     "metadata": {},
     "output_type": "execute_result"
    }
   ],
   "source": [
    "#決定木の作成\n",
    "model = DecisionTreeClassifier(**params)\n",
    "model.fit(X_train, y_train)"
   ]
  },
  {
   "cell_type": "code",
   "execution_count": 27,
   "metadata": {
    "scrolled": false
   },
   "outputs": [
    {
     "data": {
      "text/plain": [
       "[Text(418.5, 453.0, 'capital-loss <= 1820.5\\nentropy = 0.37\\nsamples = 16280\\nvalue = [12288, 3992]\\nclass = <=50K'),\n",
       " Text(209.25, 271.8, 'age <= 31.5\\nentropy = 0.355\\nsamples = 15777\\nvalue = [12143, 3634]\\nclass = <=50K'),\n",
       " Text(104.625, 90.59999999999997, 'entropy = 0.129\\nsamples = 5629\\nvalue = [5240, 389]\\nclass = <=50K'),\n",
       " Text(313.875, 90.59999999999997, 'entropy = 0.435\\nsamples = 10148\\nvalue = [6903, 3245]\\nclass = <=50K'),\n",
       " Text(627.75, 271.8, 'education-num <= 12.5\\nentropy = 0.41\\nsamples = 503\\nvalue = [145, 358]\\nclass = >50K'),\n",
       " Text(523.125, 90.59999999999997, 'entropy = 0.488\\nsamples = 267\\nvalue = [113, 154]\\nclass = >50K'),\n",
       " Text(732.375, 90.59999999999997, 'entropy = 0.234\\nsamples = 236\\nvalue = [32, 204]\\nclass = >50K')]"
      ]
     },
     "execution_count": 27,
     "metadata": {},
     "output_type": "execute_result"
    },
    {
     "data": {
      "image/png": "[encoded data removed]",
      "text/plain": [
       "<Figure size 1080x720 with 1 Axes>"
      ]
     },
     "metadata": {},
     "output_type": "display_data"
    }
   ],
   "source": [
    "from sklearn import tree\n",
    "fig, ax = plt.subplots(figsize=(15, 10))\n",
    "tree.plot_tree(model,\n",
    "               feature_names=X_traintest.columns, \n",
    "              class_names=['<=50K','>50K'],\n",
    "              fontsize=15)"
   ]
  },
  {
   "cell_type": "markdown",
   "metadata": {},
   "source": [
    "## 演習\n",
    "上の木構造の図(Tree図)から，どんな人が収入が＄50K以上で、どんな人が収入が＄50K以下であるか説明してください  \n",
    "右の矢印はNo、左の矢印はYesを意味しています   \n",
    "\"sample\"は何人が条件に含まれているか、\"value\"はその条件下で各クラスに何人が当てはまるかを示しています  \n",
    "\"class\" は収入が＄50K以上かどうかを意味しています  "
   ]
  },
  {
   "cell_type": "markdown",
   "metadata": {},
   "source": [
    "ここに入力してください"
   ]
  },
  {
   "cell_type": "code",
   "execution_count": 28,
   "metadata": {},
   "outputs": [
    {
     "name": "stdout",
     "output_type": "stream",
     "text": [
      "Training accuracy: 0.7678746928746929\n"
     ]
    }
   ],
   "source": [
    "#Accuracyが高いほど良い精度で予測ができています\n",
    "\n",
    "#トレーニングデータを学習して，トレーニングデータで評価を行った時のAccuracy\n",
    "y_pred = model.predict(X_train)\n",
    "print('Training accuracy: {}'.format(accuracy_score(y_pred, y_train)))"
   ]
  },
  {
   "cell_type": "code",
   "execution_count": 29,
   "metadata": {},
   "outputs": [],
   "source": [
    "#予測\n",
    "test_pred = model.predict(X_test)"
   ]
  },
  {
   "cell_type": "code",
   "execution_count": 13,
   "metadata": {
    "_uuid": "6f16f6eb984915dc90a58b8930c46d83c505636e"
   },
   "outputs": [],
   "source": [
    "#サブミット用ファイルの出力\n",
    "sub_df = pd.DataFrame({\"id\": test[\"id\"].values,\"Y\": test_pred})\n",
    "sub_df.to_csv(\"output/submission.csv\", index = False, header=False)"
   ]
  },
  {
   "cell_type": "code",
   "execution_count": 14,
   "metadata": {
    "scrolled": false
   },
   "outputs": [
    {
     "data": {
      "text/html": [
       "<div>\n",
       "<style scoped>\n",
       "    .dataframe tbody tr th:only-of-type {\n",
       "        vertical-align: middle;\n",
       "    }\n",
       "\n",
       "    .dataframe tbody tr th {\n",
       "        vertical-align: top;\n",
       "    }\n",
       "\n",
       "    .dataframe thead th {\n",
       "        text-align: right;\n",
       "    }\n",
       "</style>\n",
       "<table border=\"1\" class=\"dataframe\">\n",
       "  <thead>\n",
       "    <tr style=\"text-align: right;\">\n",
       "      <th></th>\n",
       "      <th>id</th>\n",
       "      <th>Y</th>\n",
       "    </tr>\n",
       "  </thead>\n",
       "  <tbody>\n",
       "    <tr>\n",
       "      <th>0</th>\n",
       "      <td>0</td>\n",
       "      <td>&lt;=50K</td>\n",
       "    </tr>\n",
       "    <tr>\n",
       "      <th>1</th>\n",
       "      <td>1</td>\n",
       "      <td>&lt;=50K</td>\n",
       "    </tr>\n",
       "    <tr>\n",
       "      <th>2</th>\n",
       "      <td>2</td>\n",
       "      <td>&lt;=50K</td>\n",
       "    </tr>\n",
       "    <tr>\n",
       "      <th>3</th>\n",
       "      <td>3</td>\n",
       "      <td>&lt;=50K</td>\n",
       "    </tr>\n",
       "    <tr>\n",
       "      <th>4</th>\n",
       "      <td>4</td>\n",
       "      <td>&lt;=50K</td>\n",
       "    </tr>\n",
       "    <tr>\n",
       "      <th>...</th>\n",
       "      <td>...</td>\n",
       "      <td>...</td>\n",
       "    </tr>\n",
       "    <tr>\n",
       "      <th>16276</th>\n",
       "      <td>32549</td>\n",
       "      <td>&lt;=50K</td>\n",
       "    </tr>\n",
       "    <tr>\n",
       "      <th>16277</th>\n",
       "      <td>32556</td>\n",
       "      <td>&lt;=50K</td>\n",
       "    </tr>\n",
       "    <tr>\n",
       "      <th>16278</th>\n",
       "      <td>32558</td>\n",
       "      <td>&lt;=50K</td>\n",
       "    </tr>\n",
       "    <tr>\n",
       "      <th>16279</th>\n",
       "      <td>32559</td>\n",
       "      <td>&lt;=50K</td>\n",
       "    </tr>\n",
       "    <tr>\n",
       "      <th>16280</th>\n",
       "      <td>32560</td>\n",
       "      <td>&lt;=50K</td>\n",
       "    </tr>\n",
       "  </tbody>\n",
       "</table>\n",
       "<p>16281 rows × 2 columns</p>\n",
       "</div>"
      ],
      "text/plain": [
       "          id      Y\n",
       "0          0  <=50K\n",
       "1          1  <=50K\n",
       "2          2  <=50K\n",
       "3          3  <=50K\n",
       "4          4  <=50K\n",
       "...      ...    ...\n",
       "16276  32549  <=50K\n",
       "16277  32556  <=50K\n",
       "16278  32558  <=50K\n",
       "16279  32559  <=50K\n",
       "16280  32560  <=50K\n",
       "\n",
       "[16281 rows x 2 columns]"
      ]
     },
     "execution_count": 14,
     "metadata": {},
     "output_type": "execute_result"
    }
   ],
   "source": [
    "sub_df"
   ]
  },
  {
   "cell_type": "code",
   "execution_count": null,
   "metadata": {},
   "outputs": [],
   "source": []
  },
  {
   "cell_type": "code",
   "execution_count": null,
   "metadata": {},
   "outputs": [],
   "source": []
  }
 ],
 "metadata": {
  "kernelspec": {
   "display_name": "Python 3",
   "language": "python",
   "name": "python3"
  },
  "language_info": {
   "codemirror_mode": {
    "name": "ipython",
    "version": 3
   },
   "file_extension": ".py",
   "mimetype": "text/x-python",
   "name": "python",
   "nbconvert_exporter": "python",
   "pygments_lexer": "ipython3",
   "version": "3.7.3"
  }
 },
 "nbformat": 4,
 "nbformat_minor": 1
}
